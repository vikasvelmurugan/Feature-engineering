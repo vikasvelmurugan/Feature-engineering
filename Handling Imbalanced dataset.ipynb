{
 "cells": [
  {
   "cell_type": "markdown",
   "id": "861a9a17",
   "metadata": {},
   "source": [
    "#### Problems of Imbalanced dataset\n",
    "\n",
    "* An imbalanced dataset is a dataset where the distribution of target values or labels is not equal. In other words, one class or category in the dataset is significantly more common than the others. The more common class is called the majority class, and the less common class is called the minority class. \n",
    "* Imbalanced datasets are common in real-world scenarios, such as credit card fraud detection, rare disease diagnosis, and anomaly detection. They can cause problems with accuracy, overfitting, and bias. This is because machine learning algorithms tend to focus on the majority class and ignore the minority class. "
   ]
  },
  {
   "cell_type": "markdown",
   "id": "05d8ea28",
   "metadata": {},
   "source": [
    "#### Two techniques to overcome this:\n",
    "\n",
    "* Upsampling\n",
    "* downsampling"
   ]
  },
  {
   "cell_type": "code",
   "execution_count": 2,
   "id": "7c4a9efb",
   "metadata": {},
   "outputs": [],
   "source": [
    "import numpy as np\n",
    "import pandas as pd\n",
    "\n",
    "#Set the random seed for reproducibility\n",
    "np.random.seed(123)\n",
    "\n",
    "## creating a dataframe with two classes\n",
    "n_samples = 1000\n",
    "class_0_ratio = 0.9\n",
    "n_class_0 = int(n_samples * class_0_ratio)\n",
    "n_class_1 = n_samples - n_class_0"
   ]
  },
  {
   "cell_type": "code",
   "execution_count": 3,
   "id": "c3dc3080",
   "metadata": {},
   "outputs": [
    {
     "data": {
      "text/plain": [
       "(900, 100)"
      ]
     },
     "execution_count": 3,
     "metadata": {},
     "output_type": "execute_result"
    }
   ],
   "source": [
    "n_class_0,n_class_1"
   ]
  },
  {
   "cell_type": "code",
   "execution_count": 4,
   "id": "53a9124a",
   "metadata": {},
   "outputs": [],
   "source": [
    "## Creating dataframe with imbalanced dataset\n",
    "class_0 = pd.DataFrame({\n",
    "    'feature_1' : np.random.normal(loc=0,scale=1, size = n_class_0),\n",
    "    'feature_2': np.random.normal(loc=0, scale=1, size=n_class_0),\n",
    "    'target': [0] * n_class_0\n",
    "})\n",
    "\n",
    "class_1 = pd.DataFrame({\n",
    "    'feature_1' : np.random.normal(loc=2,scale=1, size = n_class_1),\n",
    "    'feature_2': np.random.normal(loc=2, scale=1, size=n_class_1),\n",
    "    'target': [1] * n_class_1\n",
    "})"
   ]
  },
  {
   "cell_type": "code",
   "execution_count": 6,
   "id": "54f4082a",
   "metadata": {},
   "outputs": [],
   "source": [
    "df=pd.concat([class_0, class_1]).reset_index(drop=True)"
   ]
  },
  {
   "cell_type": "code",
   "execution_count": 7,
   "id": "906b5482",
   "metadata": {},
   "outputs": [
    {
     "data": {
      "text/plain": [
       "0    900\n",
       "1    100\n",
       "Name: target, dtype: int64"
      ]
     },
     "execution_count": 7,
     "metadata": {},
     "output_type": "execute_result"
    }
   ],
   "source": [
    "df['target'].value_counts()"
   ]
  },
  {
   "cell_type": "markdown",
   "id": "b8d3544f",
   "metadata": {},
   "source": [
    "### Up- sampling"
   ]
  },
  {
   "cell_type": "code",
   "execution_count": 8,
   "id": "77fb8b7f",
   "metadata": {},
   "outputs": [],
   "source": [
    "df_minority = df[df['target']==1]\n",
    "df_majority = df[df['target']==0]"
   ]
  },
  {
   "cell_type": "code",
   "execution_count": 9,
   "id": "6ac91de7",
   "metadata": {},
   "outputs": [],
   "source": [
    "from sklearn.utils import resample\n",
    "df_minority_upsampled = resample(df_minority, replace=True,\n",
    "                            n_samples= len(df_majority),\n",
    "                            random_state = 42\n",
    "                            )"
   ]
  },
  {
   "cell_type": "code",
   "execution_count": 10,
   "id": "45b726bf",
   "metadata": {},
   "outputs": [
    {
     "data": {
      "text/plain": [
       "(900, 3)"
      ]
     },
     "execution_count": 10,
     "metadata": {},
     "output_type": "execute_result"
    }
   ],
   "source": [
    "df_minority_upsampled.shape"
   ]
  },
  {
   "cell_type": "code",
   "execution_count": 11,
   "id": "6ab343e2",
   "metadata": {},
   "outputs": [],
   "source": [
    "df_upsampled = pd.concat([df_majority, df_minority_upsampled])"
   ]
  },
  {
   "cell_type": "code",
   "execution_count": 14,
   "id": "a17576fc",
   "metadata": {},
   "outputs": [
    {
     "data": {
      "text/plain": [
       "0    900\n",
       "1    900\n",
       "Name: target, dtype: int64"
      ]
     },
     "execution_count": 14,
     "metadata": {},
     "output_type": "execute_result"
    }
   ],
   "source": [
    "df_upsampled['target'].value_counts()"
   ]
  },
  {
   "cell_type": "markdown",
   "id": "4abd73eb",
   "metadata": {},
   "source": [
    "### Down- sampling"
   ]
  },
  {
   "cell_type": "code",
   "execution_count": 15,
   "id": "1ef863c8",
   "metadata": {},
   "outputs": [
    {
     "data": {
      "text/plain": [
       "0    900\n",
       "1    100\n",
       "Name: target, dtype: int64"
      ]
     },
     "execution_count": 15,
     "metadata": {},
     "output_type": "execute_result"
    }
   ],
   "source": [
    "import numpy as np\n",
    "import pandas as pd\n",
    "\n",
    "#Set the random seed for reproducibility\n",
    "np.random.seed(123)\n",
    "\n",
    "## creating a dataframe with two classes\n",
    "n_samples = 1000\n",
    "class_0_ratio = 0.9\n",
    "n_class_0 = int(n_samples * class_0_ratio)\n",
    "n_class_1 = n_samples - n_class_0\n",
    "\n",
    "df=pd.concat([class_0, class_1]).reset_index(drop=True)\n",
    "df['target'].value_counts()"
   ]
  },
  {
   "cell_type": "code",
   "execution_count": 16,
   "id": "f6a55be0",
   "metadata": {},
   "outputs": [],
   "source": [
    "df_minority = df[df['target']==1]\n",
    "df_majority = df[df['target']==0]"
   ]
  },
  {
   "cell_type": "code",
   "execution_count": 17,
   "id": "ce270bcc",
   "metadata": {},
   "outputs": [],
   "source": [
    "from sklearn.utils import resample\n",
    "df_majority_downsampled = resample(df_majority, replace=False,\n",
    "                            n_samples= len(df_minority),\n",
    "                            random_state = 42\n",
    "                            )"
   ]
  },
  {
   "cell_type": "code",
   "execution_count": 19,
   "id": "46495454",
   "metadata": {},
   "outputs": [
    {
     "data": {
      "text/plain": [
       "(100, 3)"
      ]
     },
     "execution_count": 19,
     "metadata": {},
     "output_type": "execute_result"
    }
   ],
   "source": [
    "df_majority_downsampled.shape"
   ]
  },
  {
   "cell_type": "code",
   "execution_count": 20,
   "id": "0dbc682a",
   "metadata": {},
   "outputs": [],
   "source": [
    "df_downsampled = pd.concat([df_minority, df_majority_downsampled])"
   ]
  },
  {
   "cell_type": "code",
   "execution_count": 21,
   "id": "05f064df",
   "metadata": {},
   "outputs": [
    {
     "data": {
      "text/plain": [
       "1    100\n",
       "0    100\n",
       "Name: target, dtype: int64"
      ]
     },
     "execution_count": 21,
     "metadata": {},
     "output_type": "execute_result"
    }
   ],
   "source": [
    "df_downsampled.target.value_counts()"
   ]
  },
  {
   "cell_type": "markdown",
   "id": "0bc3a50a",
   "metadata": {},
   "source": [
    "# SUMMARY"
   ]
  },
  {
   "cell_type": "markdown",
   "id": "47cf71b1",
   "metadata": {},
   "source": [
    "<b> 1. Upsampling (Over-sampling the minority class) </b>\n",
    "\n",
    "* When to use:\n",
    "\n",
    "Small Dataset: When your dataset is small, and removing majority class samples (downsampling) might cause loss of valuable information.\n",
    "\n",
    "Preserve Data: When you want to avoid losing any data points from the majority class.\n",
    "\n",
    "High-Performance Models: When the computational resources can handle the increased dataset size (because upsampling adds synthetic data points).\n",
    "\n",
    "Imbalanced Ratios: When the minority class ratio is very small (e.g., 1:100 or less), and you want to make the class distribution more balanced.\n",
    "\n",
    "* Methods:\n",
    "\n",
    "Random Oversampling: Duplicate random samples from the minority class.\n",
    "\n",
    "SMOTE (Synthetic Minority Oversampling Technique): Generate synthetic samples by interpolating between nearest neighbors of the minority class.\n",
    "\n",
    "ADASYN: Similar to SMOTE but focuses on generating more synthetic data for harder-to-classify samples.\n",
    "\n",
    "* Examples:\n",
    "\n",
    "Fraud detection datasets with very few fraudulent transactions.\n",
    "\n",
    "Medical datasets with rare disease cases."
   ]
  },
  {
   "cell_type": "markdown",
   "id": "e878d981",
   "metadata": {},
   "source": [
    "<b> 2. Downsampling (Under-sampling the majority class) </b>\n",
    "\n",
    "* When to use:\n",
    "\n",
    "Large Dataset: When the dataset is large enough that removing samples from the majority class won't result in significant data loss.\n",
    "\n",
    "Memory Constraints: When computational resources are limited, and you want to reduce the dataset size.\n",
    "\n",
    "Class Ratio Not Extreme: When the imbalance is moderate (e.g., 1:10), and you can afford to remove some majority class samples without losing valuable information.\n",
    "\n",
    "* Methods:\n",
    "\n",
    "Random Under-sampling: Remove random samples from the majority class.\n",
    "\n",
    "Cluster-based Sampling: Use clustering algorithms to reduce the majority class while retaining its diversity.\n",
    "\n",
    "Tomek Links: Remove majority class samples that are close to the decision boundary.\n",
    "\n",
    "* Examples:\n",
    "\n",
    "Spam classification datasets with many \"non-spam\" emails.\n",
    "\n",
    "Social media datasets where positive interactions vastly outnumber negative interactions."
   ]
  },
  {
   "cell_type": "markdown",
   "id": "b0c979f1",
   "metadata": {},
   "source": [
    "<b> Key Considerations: </b>\n",
    "\n",
    "* Risk of Overfitting (Upsampling): Upsampling (especially random oversampling) might cause the model to overfit because duplicate or synthetic data points may not generalize well. SMOTE and its variants can mitigate this.\n",
    "\n",
    "\n",
    "* Loss of Information (Downsampling): Downsampling reduces the dataset size, which might lead to loss of potentially useful data from the majority class.\n",
    "\n",
    "\n",
    "* Combine Techniques: Sometimes, combining upsampling and downsampling can be effective. For instance, upsample the minority class to some extent and downsample the majority class to create a balanced dataset without excessive data duplication or loss."
   ]
  },
  {
   "cell_type": "code",
   "execution_count": null,
   "id": "1ab7e368",
   "metadata": {},
   "outputs": [],
   "source": []
  }
 ],
 "metadata": {
  "kernelspec": {
   "display_name": "Python 3 (ipykernel)",
   "language": "python",
   "name": "python3"
  },
  "language_info": {
   "codemirror_mode": {
    "name": "ipython",
    "version": 3
   },
   "file_extension": ".py",
   "mimetype": "text/x-python",
   "name": "python",
   "nbconvert_exporter": "python",
   "pygments_lexer": "ipython3",
   "version": "3.9.13"
  }
 },
 "nbformat": 4,
 "nbformat_minor": 5
}
